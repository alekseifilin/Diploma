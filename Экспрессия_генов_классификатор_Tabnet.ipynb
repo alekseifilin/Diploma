{
  "nbformat": 4,
  "nbformat_minor": 0,
  "metadata": {
    "accelerator": "GPU",
    "colab": {
      "name": "Экспрессия генов классификатор Tabnet",
      "provenance": [],
      "collapsed_sections": []
    },
    "kernelspec": {
      "display_name": "Python 3",
      "name": "python3"
    },
    "language_info": {
      "name": "python"
    }
  },
  "cells": [
    {
      "cell_type": "code",
      "metadata": {
        "colab": {
          "base_uri": "https://localhost:8080/"
        },
        "id": "7c4k82bdJOO1",
        "outputId": "87857d06-0c68-42d8-c2ab-6b77f5c34106"
      },
      "source": [
        "!pip install pytorch-tabnet"
      ],
      "execution_count": null,
      "outputs": [
        {
          "output_type": "stream",
          "text": [
            "Requirement already satisfied: pytorch-tabnet in /usr/local/lib/python3.7/dist-packages (3.1.1)\n",
            "Requirement already satisfied: tqdm<5.0,>=4.36 in /usr/local/lib/python3.7/dist-packages (from pytorch-tabnet) (4.41.1)\n",
            "Requirement already satisfied: scipy>1.4 in /usr/local/lib/python3.7/dist-packages (from pytorch-tabnet) (1.4.1)\n",
            "Requirement already satisfied: torch<2.0,>=1.2 in /usr/local/lib/python3.7/dist-packages (from pytorch-tabnet) (1.8.1+cu101)\n",
            "Requirement already satisfied: scikit_learn>0.21 in /usr/local/lib/python3.7/dist-packages (from pytorch-tabnet) (0.22.2.post1)\n",
            "Requirement already satisfied: numpy<2.0,>=1.17 in /usr/local/lib/python3.7/dist-packages (from pytorch-tabnet) (1.19.5)\n",
            "Requirement already satisfied: typing-extensions in /usr/local/lib/python3.7/dist-packages (from torch<2.0,>=1.2->pytorch-tabnet) (3.7.4.3)\n",
            "Requirement already satisfied: joblib>=0.11 in /usr/local/lib/python3.7/dist-packages (from scikit_learn>0.21->pytorch-tabnet) (1.0.1)\n"
          ],
          "name": "stdout"
        }
      ]
    },
    {
      "cell_type": "code",
      "metadata": {
        "id": "27WKis1pJU2s"
      },
      "source": [
        "import pandas as pd\n",
        "import numpy as np\n",
        "import sklearn\n",
        "from sklearn import metrics\n",
        "\n",
        "from sklearn.metrics import classification_report, confusion_matrix, roc_curve\n",
        "from sklearn.metrics import auc\n",
        "import matplotlib.pyplot as plt\n",
        "\n",
        "from pytorch_tabnet.tab_model import TabNetClassifier\n",
        "\n",
        "import torch\n",
        "\n",
        "import scipy\n",
        "from scipy import stats"
      ],
      "execution_count": null,
      "outputs": []
    },
    {
      "cell_type": "code",
      "metadata": {
        "id": "CFM4vCuSJbGb"
      },
      "source": [
        "#Считывание датасета\n",
        "dataset_train_path = \"/content/drive/My Drive/data_matrix_extended_true_train\"\n",
        "raw_dataset_train = pd.read_csv(dataset_train_path, sep=\" \",\n",
        "                                error_bad_lines=False)\n",
        "dataset_test_path = \"/content/drive/My Drive/data_matrix_extended_true_test\"\n",
        "raw_dataset_test = pd.read_csv(dataset_test_path, sep=\" \",\n",
        "                               error_bad_lines=False)\n",
        "train_dataset = raw_dataset_train.copy()\n",
        "test_dataset = raw_dataset_test.copy()"
      ],
      "execution_count": null,
      "outputs": []
    },
    {
      "cell_type": "code",
      "metadata": {
        "id": "boi3F-1SJfw7"
      },
      "source": [
        "val_dataset = train_dataset.sample(frac = 0.3, random_state = 1)\n",
        "train_dataset = train_dataset.drop(val_dataset.index)\n",
        "\n",
        "train_labels = train_dataset.pop('Cell_1424_lg')\n",
        "test_labels = test_dataset.pop('Cell_1424_lg')\n",
        "val_labels = val_dataset.pop('Cell_1424_lg')"
      ],
      "execution_count": null,
      "outputs": []
    },
    {
      "cell_type": "code",
      "metadata": {
        "id": "w53uRzyOKbhT",
        "colab": {
          "base_uri": "https://localhost:8080/"
        },
        "outputId": "f618dfdc-1b7b-480e-94bc-365e9f801ce1"
      },
      "source": [
        "#Разобьём на классы\n",
        "train_labels.loc[train_labels == 0] = 0\n",
        "train_labels.loc[train_labels > 0] = 1\n",
        "print(train_labels.head())\n",
        "\n",
        "test_labels.loc[test_labels == 0] = 0\n",
        "test_labels.loc[test_labels > 0] = 1\n",
        "print(test_labels.head())\n",
        "\n",
        "val_labels.loc[val_labels == 0] = 0\n",
        "val_labels.loc[val_labels > 0] = 1\n",
        "print(val_labels.head())"
      ],
      "execution_count": null,
      "outputs": [
        {
          "output_type": "stream",
          "text": [
            "0    0.0\n",
            "2    0.0\n",
            "3    0.0\n",
            "5    0.0\n",
            "7    0.0\n",
            "Name: Cell_1424_lg, dtype: float64\n",
            "0    1.0\n",
            "1    1.0\n",
            "2    0.0\n",
            "3    0.0\n",
            "4    1.0\n",
            "Name: Cell_1424_lg, dtype: float64\n",
            "136680    0.0\n",
            "20760     0.0\n",
            "158436    0.0\n",
            "57264     0.0\n",
            "759       0.0\n",
            "Name: Cell_1424_lg, dtype: float64\n"
          ],
          "name": "stdout"
        }
      ]
    },
    {
      "cell_type": "code",
      "metadata": {
        "id": "6jwFgSmiKvZz"
      },
      "source": [
        "train_dataset = np.array(train_dataset)\n",
        "test_dataset = np.array(test_dataset)\n",
        "val_dataset = np.array(val_dataset)"
      ],
      "execution_count": null,
      "outputs": []
    },
    {
      "cell_type": "code",
      "metadata": {
        "id": "wH4JxWlgK8Rz",
        "colab": {
          "base_uri": "https://localhost:8080/"
        },
        "outputId": "a753ac2d-1be4-45cf-c932-db77ac58535d"
      },
      "source": [
        "#Вводим tabnet модель\n",
        "model = TabNetClassifier()"
      ],
      "execution_count": null,
      "outputs": [
        {
          "output_type": "stream",
          "text": [
            "Device used : cuda\n"
          ],
          "name": "stdout"
        }
      ]
    },
    {
      "cell_type": "code",
      "metadata": {
        "id": "TQv2p5fiLEhl",
        "colab": {
          "base_uri": "https://localhost:8080/"
        },
        "outputId": "2aaccd82-de3b-4943-93cc-77327e4d5b53"
      },
      "source": [
        "model.fit(train_dataset, train_labels,\n",
        "          eval_set=[(train_dataset, train_labels),\n",
        "                    (val_dataset, val_labels)],\n",
        "                    eval_metric = ['auc'])"
      ],
      "execution_count": null,
      "outputs": [
        {
          "output_type": "stream",
          "text": [
            "epoch 0  | loss: 0.49365 | val_0_auc: 0.81977 | val_1_auc: 0.81515 |  0:00:15s\n",
            "epoch 1  | loss: 0.43868 | val_0_auc: 0.82381 | val_1_auc: 0.82149 |  0:00:30s\n",
            "epoch 2  | loss: 0.4199  | val_0_auc: 0.83134 | val_1_auc: 0.82723 |  0:00:45s\n",
            "epoch 3  | loss: 0.41122 | val_0_auc: 0.8378  | val_1_auc: 0.83289 |  0:01:00s\n",
            "epoch 4  | loss: 0.39931 | val_0_auc: 0.85861 | val_1_auc: 0.85233 |  0:01:15s\n",
            "epoch 5  | loss: 0.38454 | val_0_auc: 0.87106 | val_1_auc: 0.86416 |  0:01:30s\n",
            "epoch 6  | loss: 0.37471 | val_0_auc: 0.87948 | val_1_auc: 0.87203 |  0:01:45s\n",
            "epoch 7  | loss: 0.36809 | val_0_auc: 0.88204 | val_1_auc: 0.87373 |  0:02:00s\n",
            "epoch 8  | loss: 0.36301 | val_0_auc: 0.88721 | val_1_auc: 0.87746 |  0:02:15s\n",
            "epoch 9  | loss: 0.35803 | val_0_auc: 0.89039 | val_1_auc: 0.87869 |  0:02:30s\n",
            "epoch 10 | loss: 0.35479 | val_0_auc: 0.89281 | val_1_auc: 0.87996 |  0:02:45s\n",
            "epoch 11 | loss: 0.35127 | val_0_auc: 0.89512 | val_1_auc: 0.88118 |  0:03:00s\n",
            "epoch 12 | loss: 0.34678 | val_0_auc: 0.89829 | val_1_auc: 0.88268 |  0:03:15s\n",
            "epoch 13 | loss: 0.34357 | val_0_auc: 0.90019 | val_1_auc: 0.8815  |  0:03:30s\n",
            "epoch 14 | loss: 0.33937 | val_0_auc: 0.90315 | val_1_auc: 0.88288 |  0:03:45s\n",
            "epoch 15 | loss: 0.33991 | val_0_auc: 0.90283 | val_1_auc: 0.88154 |  0:04:00s\n",
            "epoch 16 | loss: 0.33518 | val_0_auc: 0.90713 | val_1_auc: 0.88225 |  0:04:15s\n",
            "epoch 17 | loss: 0.3353  | val_0_auc: 0.90544 | val_1_auc: 0.87934 |  0:04:30s\n",
            "epoch 18 | loss: 0.33023 | val_0_auc: 0.90817 | val_1_auc: 0.87733 |  0:04:44s\n",
            "epoch 19 | loss: 0.3253  | val_0_auc: 0.91115 | val_1_auc: 0.87565 |  0:04:59s\n",
            "epoch 20 | loss: 0.31903 | val_0_auc: 0.9174  | val_1_auc: 0.88194 |  0:05:14s\n",
            "epoch 21 | loss: 0.31326 | val_0_auc: 0.91959 | val_1_auc: 0.87905 |  0:05:29s\n",
            "epoch 22 | loss: 0.30864 | val_0_auc: 0.92393 | val_1_auc: 0.87784 |  0:05:44s\n",
            "epoch 23 | loss: 0.30517 | val_0_auc: 0.92573 | val_1_auc: 0.87594 |  0:05:59s\n",
            "epoch 24 | loss: 0.29952 | val_0_auc: 0.92848 | val_1_auc: 0.87731 |  0:06:14s\n",
            "\n",
            "Early stopping occurred at epoch 24 with best_epoch = 14 and best_val_1_auc = 0.88288\n",
            "Best weights from best epoch are automatically used!\n"
          ],
          "name": "stdout"
        }
      ]
    },
    {
      "cell_type": "code",
      "metadata": {
        "id": "cs5cmoBfLOB8"
      },
      "source": [
        "y_pred = model.predict_proba(test_dataset)[:, 1]"
      ],
      "execution_count": null,
      "outputs": []
    },
    {
      "cell_type": "code",
      "metadata": {
        "id": "z64o1lenLVAD"
      },
      "source": [
        "fpr_tabnet, tpr_tabnet, thresholds_tabnet = roc_curve(test_labels, y_pred)\n",
        "auc_tabnet = auc(fpr_tabnet, tpr_tabnet)"
      ],
      "execution_count": null,
      "outputs": []
    },
    {
      "cell_type": "code",
      "metadata": {
        "id": "YdnP7-TELdsr",
        "colab": {
          "base_uri": "https://localhost:8080/",
          "height": 458
        },
        "outputId": "6a40a7cd-258a-47f9-d200-5dabec3fbade"
      },
      "source": [
        "plt.figure(figsize=(7, 7))\n",
        "plt.plot([0, 1], [0, 1], 'k--')\n",
        "plt.plot(fpr_tabnet, tpr_tabnet,\n",
        "         label='Tabnet (area = {:.3f})'.format(auc_tabnet))\n",
        "plt.xlabel('Доля ошибочно классифицированных')\n",
        "plt.ylabel('Доля верно классифицированных')\n",
        "plt.title('ROC кривая Tabnet')\n",
        "plt.legend(loc='best')\n",
        "plt.savefig('/content/drive/My Drive/ExpressionClassifier_Tabnet.png')\n",
        "plt.show()"
      ],
      "execution_count": null,
      "outputs": [
        {
          "output_type": "display_data",
          "data": {
            "image/png": "[encoded data removed]",
            "text/plain": [
              "<Figure size 504x504 with 1 Axes>"
            ]
          },
          "metadata": {
            "tags": [],
            "needs_background": "light"
          }
        }
      ]
    },
    {
      "cell_type": "code",
      "metadata": {
        "colab": {
          "base_uri": "https://localhost:8080/"
        },
        "id": "0QGJ5bXri6wJ",
        "outputId": "9e40422c-efb4-4b59-bee1-7181e1c37a6c"
      },
      "source": [
        "Pearson = stats.pearsonr(y_pred, test_labels)\n",
        "Pearson"
      ],
      "execution_count": null,
      "outputs": [
        {
          "output_type": "execute_result",
          "data": {
            "text/plain": [
              "(0.6846029516129267, 0.0)"
            ]
          },
          "metadata": {
            "tags": []
          },
          "execution_count": 12
        }
      ]
    }
  ]
}